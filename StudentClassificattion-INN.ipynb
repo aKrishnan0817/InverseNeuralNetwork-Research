{
 "cells": [
  {
   "cell_type": "code",
   "execution_count": 1,
   "metadata": {
    "id": "WNiog5NJyVgr"
   },
   "outputs": [],
   "source": [
    "import numpy as np\n",
    "import matplotlib.pyplot as plt\n",
    "from sklearn.datasets import make_classification\n",
    "from sklearn.model_selection import train_test_split\n",
    "from sklearn.preprocessing import MinMaxScaler\n",
    "from tensorflow.keras.models import Sequential\n",
    "from tensorflow.keras.layers import Dense\n"
   ]
  },
  {
   "cell_type": "code",
   "execution_count": 9,
   "metadata": {},
   "outputs": [],
   "source": [
    "import pandas as pd\n",
    "data = pd.read_csv(\"ClassroomRole.csv\")\n",
    "\n",
    "data['Gender'] = data['Gender'].map({'Male': 0, 'Female': 1})\n",
    "data['HairType'] = data['HairType'].map({'Short': 0, 'Medium': 1,\"Long\":2,\"Very-Long\":3})\n",
    "data['ClasroomRole'] = data['ClasroomRole'].map({'Student': 0, 'Teacher': 1})\n",
    "\n",
    "x= data.iloc[:,2:5]\n",
    "y = data.iloc[:,5]\n",
    "scaler = MinMaxScaler()\n",
    "\n",
    "scaler.fit(x)\n",
    "\n",
    "# Transform the data\n",
    "X = scaler.transform(x)\n",
    "\n",
    "X = np.array(X)\n",
    "\n",
    "\n",
    "X_train, X_test, y_train, y_test = train_test_split(X, y, test_size=0.2, random_state=42)"
   ]
  },
  {
   "cell_type": "code",
   "execution_count": 12,
   "metadata": {},
   "outputs": [
    {
     "data": {
      "text/plain": [
       "(800, 3)"
      ]
     },
     "execution_count": 12,
     "metadata": {},
     "output_type": "execute_result"
    }
   ],
   "source": [
    "X_train.shape"
   ]
  },
  {
   "cell_type": "code",
   "execution_count": 54,
   "metadata": {},
   "outputs": [
    {
     "data": {
      "text/plain": [
       "<keras.callbacks.History at 0x109a838d0>"
      ]
     },
     "execution_count": 54,
     "metadata": {},
     "output_type": "execute_result"
    }
   ],
   "source": [
    "model = Sequential([\n",
    "    Dense(2, activation='sigmoid', input_dim=X_train.shape[1]),  # 3 -> 2\n",
    "    Dense(1, activation='sigmoid'),              # 2 -> 1\n",
    "])\n",
    "\n",
    "model.compile(optimizer='adam', loss='binary_crossentropy', metrics=['accuracy'])\n",
    "model.fit(X_train, y_train, epochs=50, verbose=0)\n"
   ]
  },
  {
   "cell_type": "code",
   "execution_count": null,
   "metadata": {},
   "outputs": [],
   "source": [
    "\n",
    "def sigmoid_inv(y):\n",
    "    y = np.clip(y, 1e-7, 1 - 1e-7)  # To avoid division by zero\n",
    "    return -np.log(1 / y - 1)\n",
    "\n",
    "\n",
    "\n"
   ]
  },
  {
   "cell_type": "code",
   "execution_count": null,
   "metadata": {},
   "outputs": [],
   "source": [
    "def inverse_layer_general(weights, biases, outputs, free_vars=None):\n",
    "    \"\"\"\n",
    "    Generalized inversion for a single layer of a neural network.\n",
    "    Args:\n",
    "        weights (np.ndarray): Weight matrix of shape (output_size, input_size).\n",
    "        biases (np.ndarray): Bias vector of shape (output_size,).\n",
    "        outputs (np.ndarray): Desired output vector of shape (output_size,).\n",
    "        free_vars (np.ndarray): Free variables for dimension mismatch (optional).\n",
    "    Returns:\n",
    "        np.ndarray: Input vector for the layer.\n",
    "    \"\"\"\n",
    " \n",
    "    z = sigmoid_inv(outputs)  # Adjust for other activation functions if needed\n",
    "\n",
    "    # Handle dimension mismatch (free variables)\n",
    "    output_size, input_size = weights.shape\n",
    "    if input_size > output_size:  # More inputs than outputs\n",
    "        extra_weights = weights[:, output_size:]\n",
    "        if free_vars is None:\n",
    "            raise ValueError(\"Free variables required for size mismatch.\")\n",
    "        z -= np.dot(extra_weights, free_vars)\n",
    "        weights = weights[:, :output_size]  # Keep only relevant columns\n",
    "\n",
    "    # Solve the linear system\n",
    "    inputs, _, _, _ = np.linalg.lstsq(weights, z - biases, rcond=None)\n",
    "    return inputs"
   ]
  },
  {
   "cell_type": "code",
   "execution_count": 52,
   "metadata": {},
   "outputs": [],
   "source": [
    "def generate_manifold(model, target_output, free_variable_range=(-1, 1), num_samples=100):\n",
    "    \"\"\"\n",
    "    Generate a manifold of inputs for a given target output by iterating over free variables.\n",
    "    Args:\n",
    "        model (list): A list of (weights, biases) tuples for each layer of the neural network.\n",
    "        target_output (np.ndarray): Target output vector for the final layer.\n",
    "        free_variable_range (tuple): Range for free variables (min, max).\n",
    "        num_samples (int): Number of samples to generate for free variables.\n",
    "    Returns:\n",
    "        np.ndarray: Array of input vectors forming the manifold.\n",
    "    \"\"\"\n",
    "    # Generate free variable samples\n",
    "    free_var_samples = np.linspace(free_variable_range[0], free_variable_range[1], num_samples)\n",
    "    input_manifold = []\n",
    "\n",
    "    for free_var in free_var_samples:\n",
    "        free_vars = np.array([free_var])  # Adjust if multiple free variables needed\n",
    "        current_output = target_output\n",
    "\n",
    "        # Backpropagate through each layer\n",
    "        for weights, biases in reversed(model):\n",
    "            current_output = inverse_layer_general(weights, biases, current_output, free_vars)\n",
    "\n",
    "        input_manifold.append(current_output)\n",
    "\n",
    "    return np.array(input_manifold)\n"
   ]
  },
  {
   "cell_type": "code",
   "execution_count": 56,
   "metadata": {},
   "outputs": [
    {
     "data": {
      "image/png": "[encoded data removed]",
      "text/plain": [
       "<Figure size 800x600 with 1 Axes>"
      ]
     },
     "metadata": {},
     "output_type": "display_data"
    }
   ],
   "source": [
    "\n",
    "\n",
    "#a simple 3-layer neural network (weights and biases)\n",
    "model = [\n",
    "    (np.array([[0.5, 0.3, 0.2], [0.4, 0.7, 0.5]]), np.array([0.1, -0.2])),  # Layer 1\n",
    "    (np.array([[0.6, 0.4], [0.3, 0.5]]), np.array([0.2, 0.1])),             # Layer 2\n",
    "    (np.array([[0.7, 0.8]]), np.array([-0.3]))                             # Layer 3 (output layer)\n",
    "]\n",
    "\n",
    "# Target output and manifold generation\n",
    "target_output = np.array([0.8])  # output value for the final layer to invernse\n",
    "manifold = generate_manifold(model, target_output, free_variable_range=(-2, 2), num_samples=100)\n",
    "\n",
    "# Visualization\n",
    "plt.figure(figsize=(8, 6))\n",
    "plt.scatter(manifold[:, 0], manifold[:, 1], c='blue', alpha=0.6, label='Input Manifold')\n",
    "plt.xlabel('Input Dimension 1')\n",
    "plt.ylabel('Input Dimension 2')\n",
    "plt.title('Generated Manifold for Target Output')\n",
    "plt.legend()\n",
    "plt.show()\n"
   ]
  }
 ],
 "metadata": {
  "colab": {
   "authorship_tag": "ABX9TyPUj6JPTGUNwWjbexwlZowg",
   "provenance": []
  },
  "kernelspec": {
   "display_name": "base",
   "language": "python",
   "name": "python3"
  },
  "language_info": {
   "codemirror_mode": {
    "name": "ipython",
    "version": 3
   },
   "file_extension": ".py",
   "mimetype": "text/x-python",
   "name": "python",
   "nbconvert_exporter": "python",
   "pygments_lexer": "ipython3",
   "version": "3.11.5"
  }
 },
 "nbformat": 4,
 "nbformat_minor": 0
}
