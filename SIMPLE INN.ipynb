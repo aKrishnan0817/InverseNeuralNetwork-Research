{
 "cells": [
  {
   "cell_type": "code",
   "execution_count": null,
   "metadata": {
    "id": "0ftoFbFeJUZb"
   },
   "outputs": [],
   "source": [
    "import numpy as np"
   ]
  },
  {
   "cell_type": "code",
   "execution_count": 13,
   "metadata": {
    "executionInfo": {
     "elapsed": 91,
     "status": "ok",
     "timestamp": 1733441405416,
     "user": {
      "displayName": "Atul Krishnan",
      "userId": "18013691304880792577"
     },
     "user_tz": 300
    },
    "id": "r9fdtlpHJWhg"
   },
   "outputs": [],
   "source": [
    "input_neurons = 3\n",
    "hidden_neurons = 3\n",
    "output_neurons = 3"
   ]
  },
  {
   "cell_type": "code",
   "execution_count": 14,
   "metadata": {
    "executionInfo": {
     "elapsed": 62,
     "status": "ok",
     "timestamp": 1733441406151,
     "user": {
      "displayName": "Atul Krishnan",
      "userId": "18013691304880792577"
     },
     "user_tz": 300
    },
    "id": "qhKaqfreJaiz"
   },
   "outputs": [],
   "source": [
    "weights_input_hidden = np.random.uniform(-1, 1, (hidden_neurons, input_neurons))\n",
    "weights_hidden_output = np.random.uniform(-1, 1, (output_neurons, hidden_neurons))"
   ]
  },
  {
   "cell_type": "code",
   "execution_count": 15,
   "metadata": {
    "executionInfo": {
     "elapsed": 151,
     "status": "ok",
     "timestamp": 1733441406751,
     "user": {
      "displayName": "Atul Krishnan",
      "userId": "18013691304880792577"
     },
     "user_tz": 300
    },
    "id": "fgAtwu-tJ19E"
   },
   "outputs": [],
   "source": [
    "input_data = np.array([0.5, 0.2, 0.8])\n"
   ]
  },
  {
   "cell_type": "code",
   "execution_count": 36,
   "metadata": {
    "colab": {
     "base_uri": "https://localhost:8080/"
    },
    "executionInfo": {
     "elapsed": 82,
     "status": "ok",
     "timestamp": 1733441726154,
     "user": {
      "displayName": "Atul Krishnan",
      "userId": "18013691304880792577"
     },
     "user_tz": 300
    },
    "id": "5WzkUNtCHpnR",
    "outputId": "42776829-c843-4d00-dd15-ae7fa3c71fe5"
   },
   "outputs": [
    {
     "name": "stdout",
     "output_type": "stream",
     "text": [
      "Output: [0.22351192 0.72217371 0.08285571]\n"
     ]
    }
   ],
   "source": [
    "# Forward propagation\n",
    "z1 = np.dot(weights_input_hidden, input_data)\n",
    "a1 = np.tanh(z1)\n",
    "\n",
    "z2 = np.dot(weights_hidden_output, a1)\n",
    "output = np.tanh(z2)\n",
    "\n",
    "print(\"Output:\", output)\n"
   ]
  },
  {
   "cell_type": "code",
   "execution_count": 37,
   "metadata": {
    "colab": {
     "base_uri": "https://localhost:8080/"
    },
    "executionInfo": {
     "elapsed": 62,
     "status": "ok",
     "timestamp": 1733441726748,
     "user": {
      "displayName": "Atul Krishnan",
      "userId": "18013691304880792577"
     },
     "user_tz": 300
    },
    "id": "VDQimBLrJOJw",
    "outputId": "fa51ba7f-cd9c-44f3-ede2-20df80ecbc6f"
   },
   "outputs": [
    {
     "name": "stdout",
     "output_type": "stream",
     "text": [
      "Input data: [0.5 0.2 0.8]\n"
     ]
    }
   ],
   "source": [
    "# INVERSE OF THE SIMPLE NETWORK\n",
    "\n",
    "z2_ = np.arctanh(output)\n",
    "a1_ = np.dot(np.linalg.inv(weights_hidden_output), z2_)\n",
    "\n",
    "z1_ = np.arctanh(a1_)\n",
    "input_data_ = np.dot(np.linalg.inv(weights_input_hidden), z1_)\n",
    "\n",
    "print(\"Input data:\", input_data_)"
   ]
  },
  {
   "cell_type": "code",
   "execution_count": 39,
   "metadata": {
    "colab": {
     "base_uri": "https://localhost:8080/"
    },
    "executionInfo": {
     "elapsed": 4,
     "status": "ok",
     "timestamp": 1733441873154,
     "user": {
      "displayName": "Atul Krishnan",
      "userId": "18013691304880792577"
     },
     "user_tz": 300
    },
    "id": "LcYsx0ncLbC8",
    "outputId": "2fecb9b5-092d-4fb1-ff56-082e063d4f1a"
   },
   "outputs": [
    {
     "name": "stdout",
     "output_type": "stream",
     "text": [
      "Original a1[ 0.59349881 -0.38535072 -0.49544892]\n",
      " Inversed a1[ 0.59349881 -0.38535072 -0.49544892]\n"
     ]
    }
   ],
   "source": [
    "print(f\"Original a1{a1}\\n Inversed a1{a1_}\")\n"
   ]
  },
  {
   "cell_type": "code",
   "execution_count": 40,
   "metadata": {
    "colab": {
     "base_uri": "https://localhost:8080/"
    },
    "executionInfo": {
     "elapsed": 84,
     "status": "ok",
     "timestamp": 1733441874052,
     "user": {
      "displayName": "Atul Krishnan",
      "userId": "18013691304880792577"
     },
     "user_tz": 300
    },
    "id": "A4Pyet7kL8EN",
    "outputId": "33914bef-da73-47ae-b694-32b17276ca2c"
   },
   "outputs": [
    {
     "name": "stdout",
     "output_type": "stream",
     "text": [
      "Original z1[ 0.68305027 -0.4063284  -0.54325632]\n",
      " Inversed z1[ 0.68305027 -0.4063284  -0.54325632]\n"
     ]
    }
   ],
   "source": [
    "print(f\"Original z1{z1}\\n Inversed z1{z1_}\")\n"
   ]
  },
  {
   "cell_type": "code",
   "execution_count": 41,
   "metadata": {
    "colab": {
     "base_uri": "https://localhost:8080/"
    },
    "executionInfo": {
     "elapsed": 61,
     "status": "ok",
     "timestamp": 1733441875791,
     "user": {
      "displayName": "Atul Krishnan",
      "userId": "18013691304880792577"
     },
     "user_tz": 300
    },
    "id": "gHd68-VRL8-X",
    "outputId": "1b2795d7-4fac-44ed-a1f3-6658b6381b99"
   },
   "outputs": [
    {
     "name": "stdout",
     "output_type": "stream",
     "text": [
      "Original z2[0.22734967 0.91217324 0.0830461 ]\n",
      " Inversed z2[0.22734967 0.91217324 0.0830461 ]\n"
     ]
    }
   ],
   "source": [
    "print(f\"Original z2{z2}\\n Inversed z2{z2_}\")\n"
   ]
  },
  {
   "cell_type": "code",
   "execution_count": 42,
   "metadata": {
    "colab": {
     "base_uri": "https://localhost:8080/"
    },
    "executionInfo": {
     "elapsed": 69,
     "status": "ok",
     "timestamp": 1733441877638,
     "user": {
      "displayName": "Atul Krishnan",
      "userId": "18013691304880792577"
     },
     "user_tz": 300
    },
    "id": "CLdE7OIbL9wg",
    "outputId": "9331316a-c050-43bf-f83b-e3e1c99bc781"
   },
   "outputs": [
    {
     "name": "stdout",
     "output_type": "stream",
     "text": [
      "Original input_data[0.5 0.2 0.8] \n",
      " Inversed[0.5 0.2 0.8]\n"
     ]
    }
   ],
   "source": [
    "print(f\"Original input_data{input_data} \\n Inversed{input_data_}\")"
   ]
  },
  {
   "cell_type": "code",
   "execution_count": null,
   "metadata": {},
   "outputs": [],
   "source": [
    "def inverse_propagation(output, num_samples=100):\n",
    "    z2 = sigmoid_inv(output)\n",
    "    free_vars_layer2 = np.linspace(-1, 1, num_samples)\n",
    "\n",
    "    inputs = []\n",
    "    for a1_sample in itertools.product(free_vars_layer2, repeat=1):  # Free variable for Layer 1\n",
    "        a1_sample = np.array(a1_sample)\n",
    "        z1 = np.linalg.solve(weights[\"layer2\"].T, z2 - biases[\"layer2\"])\n",
    "        for x_sample in itertools.product(np.linspace(-1, 1, num_samples), repeat=4 - 3):  # Free vars Layer 0\n",
    "            x = np.linalg.solve(weights[\"layer1\"].T, z1 - biases[\"layer1\"])"
   ]
  },
  {
   "cell_type": "code",
   "execution_count": null,
   "metadata": {},
   "outputs": [],
   "source": [
    "def sigmoid(x):\n",
    "    return 1 / (1 + np.exp(-x))\n",
    "\n",
    "def sigmoid_inv(y):\n",
    "    return -np.log(1 / y - 1)\n",
    "\n",
    "def forward_propagation(x):\n",
    "    z1 = np.dot(weights[\"layer1\"], x) + biases[\"layer1\"]\n",
    "    a1 = sigmoid(z1)\n",
    "    z2 = np.dot(weights[\"layer2\"], a1) + biases[\"layer2\"]\n",
    "    a2 = sigmoid(z2)\n",
    "    return {\"z1\": z1, \"a1\": a1, \"z2\": z2, \"a2\": a2}\n",
    "\n",
    "\n",
    "weights = {\n",
    "    \"layer1\": np.random.randn(3, 4),  # 3 neurons, 4 inputs\n",
    "    \"layer2\": np.random.randn(2, 3),  # 2 neurons, 3 inputs\n",
    "}\n",
    "biases = {\n",
    "    \"layer1\": np.random.randn(3),\n",
    "    \"layer2\": np.random.randn(2),\n",
    "}"
   ]
  }
 ],
 "metadata": {
  "colab": {
   "authorship_tag": "ABX9TyMLdJgZahvHWTU37qHYG98V",
   "provenance": []
  },
  "kernelspec": {
   "display_name": "Python 3",
   "name": "python3"
  },
  "language_info": {
   "name": "python"
  }
 },
 "nbformat": 4,
 "nbformat_minor": 0
}
